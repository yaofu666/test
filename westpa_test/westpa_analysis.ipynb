{
 "cells": [
  {
   "cell_type": "code",
   "execution_count": null,
   "metadata": {},
   "outputs": [],
   "source": [
    "# Here is a template for w_ipa analysis of WESTPA results\n",
    "\n",
    "# 1. fist, modify the analysis part in west.cfg to make it look like:\n",
    "\n",
    "### a.  devide the configurational space into parts according to boundaries. ###\n",
    "# target state --distance: the distance of reactive carbon from cysteine sulfur should be very small around 3A(have chance to make bond)\n",
    "                           #if distance is larger than 5A, there'll be no molecular interactions\n",
    "# target state -- rmsd : rmsd don't have too much limitations, but just use 5A as a boundary here\n",
    "               \n",
    "# analysis:\n",
    "#      directory: ANALYSIS_2D             # specify the directory all analysis files should exist in.\n",
    "#      kinetics:                          # general options for both kinetics routines.\n",
    "#        step_iter: 1 \n",
    "#        evolution: cumulative\n",
    "#        extra: [ 'disable-correl' ]\n",
    "#      analysis_schemes:                  # Analysis schemes.  Required: name (TEST_2D) ,states, and bins\n",
    "#        TEST_2D:\n",
    "#          enabled: True                \n",
    "#          bins:\n",
    "#            - type: RectilinearBinMapper\n",
    "#              boundaries:                     #correlates to the order(index) of pcoord in west.cfg\n",
    "#                - [0.0, 5.0, 'inf']           #rmsd\n",
    "#                - [0.0, 3.1, 5.0, 'inf']      #dis\n",
    "\n",
    "### b.  based on the blocks (devided configurational space) , set up the trajectory state boundary ### \n",
    "\n",
    "#          states:\n",
    "#            - label: unbound             # the unbound state index is 0\n",
    "#              coords: \n",
    "#                - [5.1, 5.1]             # first figure(5.1) is 'unbound' definition for rmsd, second(5.1) is 'unbound' definition for dis\n",
    "#            - label: bound               # the bound state index is 1\n",
    "#              coords: \n",
    "#                - [4.9, 3.0]             # first figure(4.9) is 'bound' definition for rmsd, second(3.0) is 'bound' definition for dis\n",
    "               \n",
    "\n",
    "### REFERENCE:\n",
    "# w_ipa set up in WESTPA.2.0 tutorial\n",
    "# https://westpa.readthedocs.io/en/latest/users_guide/west/analysis.html ###\n",
    "\n"
   ]
  },
  {
   "cell_type": "code",
   "execution_count": 1,
   "metadata": {},
   "outputs": [],
   "source": [
    "\n",
    "## I prefer to use jupyter notebook, but it could also be done using 'w_ipa -ao' in terminal, see details in tutorial\n",
    "\n",
    "from westpa.cli.tools import w_ipa\n",
    "from westpa.cli.tools.w_ipa import WIPI\n",
    "\n",
    "w = WIPI()"
   ]
  },
  {
   "cell_type": "code",
   "execution_count": 61,
   "metadata": {},
   "outputs": [],
   "source": [
    "# run the w_ipa\n",
    "w.main()"
   ]
  },
  {
   "cell_type": "code",
   "execution_count": null,
   "metadata": {},
   "outputs": [],
   "source": [
    "# after w.main. there'll be a new directory occuring in the directory, here is named ANALYSIS_2D(as you defined)\n",
    "# there're 2 files in this ANALYSIS_2D, one is assign.h5, one is direct.h5, the latter contains the fluxes and other useful data\n"
   ]
  },
  {
   "cell_type": "code",
   "execution_count": 8,
   "metadata": {},
   "outputs": [
    {
     "name": "stdout",
     "output_type": "stream",
     "text": [
      "arrivals\n",
      "  Shape: (50, 2), Dtype: uint64\n",
      "avg_color_probs\n",
      "  Shape: (2,), Dtype: [('iter_start', '<u4'), ('iter_stop', '<u4'), ('expected', '<f8'), ('ci_lbound', '<f8'), ('ci_ubound', '<f8'), ('sterr', '<f8'), ('corr_len', '<u4')]\n",
      "avg_conditional_fluxes\n",
      "  Shape: (2, 2), Dtype: [('iter_start', '<u4'), ('iter_stop', '<u4'), ('expected', '<f8'), ('ci_lbound', '<f8'), ('ci_ubound', '<f8'), ('sterr', '<f8'), ('corr_len', '<u4')]\n",
      "avg_rates\n",
      "  Shape: (2, 2), Dtype: [('iter_start', '<u4'), ('iter_stop', '<u4'), ('expected', '<f8'), ('ci_lbound', '<f8'), ('ci_ubound', '<f8'), ('sterr', '<f8'), ('corr_len', '<u4')]\n",
      "avg_state_probs\n",
      "  Shape: (2,), Dtype: [('iter_start', '<u4'), ('iter_stop', '<u4'), ('expected', '<f8'), ('ci_lbound', '<f8'), ('ci_ubound', '<f8'), ('sterr', '<f8'), ('corr_len', '<u4')]\n",
      "avg_total_fluxes\n",
      "  Shape: (2,), Dtype: [('iter_start', '<u4'), ('iter_stop', '<u4'), ('expected', '<f8'), ('ci_lbound', '<f8'), ('ci_ubound', '<f8'), ('sterr', '<f8'), ('corr_len', '<u4')]\n",
      "color_prob_evolution\n",
      "  Shape: (50, 2), Dtype: [('iter_start', '<u4'), ('iter_stop', '<u4'), ('expected', '<f8'), ('ci_lbound', '<f8'), ('ci_ubound', '<f8'), ('sterr', '<f8'), ('corr_len', '<u4')]\n",
      "conditional_arrivals\n",
      "  Shape: (50, 2, 2), Dtype: uint64\n",
      "conditional_flux_evolution\n",
      "  Shape: (50, 2, 2), Dtype: [('iter_start', '<u4'), ('iter_stop', '<u4'), ('expected', '<f8'), ('ci_lbound', '<f8'), ('ci_ubound', '<f8'), ('sterr', '<f8'), ('corr_len', '<u4')]\n",
      "conditional_fluxes\n",
      "  Shape: (50, 2, 2), Dtype: float64\n",
      "duration_count\n",
      "  Shape: (50,), Dtype: int64\n",
      "durations\n",
      "  Shape: (50, 6), Dtype: [('istate', '<u2'), ('fstate', '<u2'), ('duration', '<f8'), ('weight', '<f8'), ('seg_id', '<i8')]\n",
      "rate_evolution\n",
      "  Shape: (50, 2, 2), Dtype: [('iter_start', '<u4'), ('iter_stop', '<u4'), ('expected', '<f8'), ('ci_lbound', '<f8'), ('ci_ubound', '<f8'), ('sterr', '<f8'), ('corr_len', '<u4')]\n",
      "state_labels\n",
      "  Shape: (2,), Dtype: |S7\n",
      "state_pop_evolution\n",
      "  Shape: (50, 2), Dtype: [('iter_start', '<u4'), ('iter_stop', '<u4'), ('expected', '<f8'), ('ci_lbound', '<f8'), ('ci_ubound', '<f8'), ('sterr', '<f8'), ('corr_len', '<u4')]\n",
      "target_flux_evolution\n",
      "  Shape: (50, 2), Dtype: [('iter_start', '<u4'), ('iter_stop', '<u4'), ('expected', '<f8'), ('ci_lbound', '<f8'), ('ci_ubound', '<f8'), ('sterr', '<f8'), ('corr_len', '<u4')]\n",
      "total_fluxes\n",
      "  Shape: (50, 2), Dtype: float64\n"
     ]
    }
   ],
   "source": [
    "# as all the analysis are based on the h5 file, so you may want to check the data frame of it\n",
    "\n",
    "import h5py\n",
    "import numpy as np\n",
    "\n",
    "def print_hdf5_structure(name, obj):\n",
    "    print(name)\n",
    "    if isinstance(obj, h5py.Dataset):\n",
    "        print(f\"  Shape: {obj.shape}, Dtype: {obj.dtype}\")\n",
    "\n",
    "with h5py.File('/E166V_8H82/ANALYSIS_2D/TEST_2D/direct.h5', 'r') as f:\n",
    "    f.visititems(print_hdf5_structure)\n",
    "\n",
    "\n",
    "# list(direct.h5): [‘arrivals’, ‘avg_color_probs’, ‘avg_conditional_fluxes’, ‘avg_rates’, ‘avg_state_probs’, ‘avg_total_fluxes’, ‘color_prob_evolution’, ‘conditional_arrivals’, ‘conditional_flux_evolution’, ‘conditional_fluxes’, ‘duration_count’, ‘durations’, ‘rate_evolution’, ‘state_labels’, ‘state_pop_evolution’, ‘target_flux_evolution’, ‘total_fluxes’]"
   ]
  },
  {
   "cell_type": "code",
   "execution_count": 1,
   "metadata": {},
   "outputs": [
    {
     "name": "stdout",
     "output_type": "stream",
     "text": [
      "\n",
      "target_flux_evolution:\n",
      "[[(1,  2, 0.00000000e+00, 0.00000000e+00, 0.00000000e+00, 0.00000000e+00, 0)\n",
      "  (1,  2, 0.00000000e+00, 0.00000000e+00, 0.00000000e+00, 0.00000000e+00, 0)]\n",
      " [(1,  3, 0.00000000e+00, 0.00000000e+00, 0.00000000e+00, 0.00000000e+00, 0)\n",
      "  (1,  3, 0.00000000e+00, 0.00000000e+00, 0.00000000e+00, 0.00000000e+00, 0)]\n",
      " [(1,  4, 0.00000000e+00, 0.00000000e+00, 0.00000000e+00, 0.00000000e+00, 0)\n",
      "  (1,  4, 0.00000000e+00, 0.00000000e+00, 0.00000000e+00, 0.00000000e+00, 0)]\n",
      " [(1,  5, 0.00000000e+00, 0.00000000e+00, 0.00000000e+00, 0.00000000e+00, 0)\n",
      "  (1,  5, 0.00000000e+00, 0.00000000e+00, 0.00000000e+00, 0.00000000e+00, 0)]\n",
      " [(1,  6, 0.00000000e+00, 0.00000000e+00, 0.00000000e+00, 0.00000000e+00, 0)\n",
      "  (1,  6, 0.00000000e+00, 0.00000000e+00, 0.00000000e+00, 0.00000000e+00, 0)]\n",
      " [(1,  7, 0.00000000e+00, 0.00000000e+00, 0.00000000e+00, 0.00000000e+00, 0)\n",
      "  (1,  7, 0.00000000e+00, 0.00000000e+00, 0.00000000e+00, 0.00000000e+00, 0)]\n",
      " [(1,  8, 0.00000000e+00, 0.00000000e+00, 0.00000000e+00, 0.00000000e+00, 0)\n",
      "  (1,  8, 0.00000000e+00, 0.00000000e+00, 0.00000000e+00, 0.00000000e+00, 0)]\n",
      " [(1,  9, 0.00000000e+00, 0.00000000e+00, 0.00000000e+00, 0.00000000e+00, 0)\n",
      "  (1,  9, 0.00000000e+00, 0.00000000e+00, 0.00000000e+00, 0.00000000e+00, 0)]\n",
      " [(1, 10, 0.00000000e+00, 0.00000000e+00, 0.00000000e+00, 0.00000000e+00, 0)\n",
      "  (1, 10, 0.00000000e+00, 0.00000000e+00, 0.00000000e+00, 0.00000000e+00, 0)]\n",
      " [(1, 11, 0.00000000e+00, 0.00000000e+00, 0.00000000e+00, 0.00000000e+00, 0)\n",
      "  (1, 11, 0.00000000e+00, 0.00000000e+00, 0.00000000e+00, 0.00000000e+00, 0)]\n",
      " [(1, 12, 0.00000000e+00, 0.00000000e+00, 0.00000000e+00, 0.00000000e+00, 0)\n",
      "  (1, 12, 0.00000000e+00, 0.00000000e+00, 0.00000000e+00, 0.00000000e+00, 0)]\n",
      " [(1, 13, 0.00000000e+00, 0.00000000e+00, 0.00000000e+00, 0.00000000e+00, 0)\n",
      "  (1, 13, 0.00000000e+00, 0.00000000e+00, 0.00000000e+00, 0.00000000e+00, 0)]\n",
      " [(1, 14, 0.00000000e+00, 0.00000000e+00, 0.00000000e+00, 0.00000000e+00, 0)\n",
      "  (1, 14, 0.00000000e+00, 0.00000000e+00, 0.00000000e+00, 0.00000000e+00, 0)]\n",
      " [(1, 15, 0.00000000e+00, 0.00000000e+00, 0.00000000e+00, 0.00000000e+00, 0)\n",
      "  (1, 15, 0.00000000e+00, 0.00000000e+00, 0.00000000e+00, 0.00000000e+00, 0)]\n",
      " [(1, 16, 0.00000000e+00, 0.00000000e+00, 0.00000000e+00, 0.00000000e+00, 0)\n",
      "  (1, 16, 0.00000000e+00, 0.00000000e+00, 0.00000000e+00, 0.00000000e+00, 0)]\n",
      " [(1, 17, 0.00000000e+00, 0.00000000e+00, 0.00000000e+00, 0.00000000e+00, 0)\n",
      "  (1, 17, 0.00000000e+00, 0.00000000e+00, 0.00000000e+00, 0.00000000e+00, 0)]\n",
      " [(1, 18, 0.00000000e+00, 0.00000000e+00, 0.00000000e+00, 0.00000000e+00, 0)\n",
      "  (1, 18, 0.00000000e+00, 0.00000000e+00, 0.00000000e+00, 0.00000000e+00, 0)]\n",
      " [(1, 19, 0.00000000e+00, 0.00000000e+00, 0.00000000e+00, 0.00000000e+00, 0)\n",
      "  (1, 19, 0.00000000e+00, 0.00000000e+00, 0.00000000e+00, 0.00000000e+00, 0)]\n",
      " [(1, 20, 0.00000000e+00, 0.00000000e+00, 0.00000000e+00, 0.00000000e+00, 0)\n",
      "  (1, 20, 0.00000000e+00, 0.00000000e+00, 0.00000000e+00, 0.00000000e+00, 0)]\n",
      " [(1, 21, 0.00000000e+00, 0.00000000e+00, 0.00000000e+00, 0.00000000e+00, 0)\n",
      "  (1, 21, 0.00000000e+00, 0.00000000e+00, 0.00000000e+00, 0.00000000e+00, 0)]\n",
      " [(1, 22, 0.00000000e+00, 0.00000000e+00, 0.00000000e+00, 0.00000000e+00, 0)\n",
      "  (1, 22, 0.00000000e+00, 0.00000000e+00, 0.00000000e+00, 0.00000000e+00, 0)]\n",
      " [(1, 23, 0.00000000e+00, 0.00000000e+00, 0.00000000e+00, 0.00000000e+00, 0)\n",
      "  (1, 23, 0.00000000e+00, 0.00000000e+00, 0.00000000e+00, 0.00000000e+00, 0)]\n",
      " [(1, 24, 0.00000000e+00, 0.00000000e+00, 0.00000000e+00, 0.00000000e+00, 0)\n",
      "  (1, 24, 0.00000000e+00, 0.00000000e+00, 0.00000000e+00, 0.00000000e+00, 0)]\n",
      " [(1, 25, 0.00000000e+00, 0.00000000e+00, 0.00000000e+00, 0.00000000e+00, 0)\n",
      "  (1, 25, 0.00000000e+00, 0.00000000e+00, 0.00000000e+00, 0.00000000e+00, 0)]\n",
      " [(1, 26, 0.00000000e+00, 0.00000000e+00, 0.00000000e+00, 0.00000000e+00, 0)\n",
      "  (1, 26, 0.00000000e+00, 0.00000000e+00, 0.00000000e+00, 0.00000000e+00, 0)]\n",
      " [(1, 27, 0.00000000e+00, 0.00000000e+00, 0.00000000e+00, 0.00000000e+00, 0)\n",
      "  (1, 27, 0.00000000e+00, 0.00000000e+00, 0.00000000e+00, 0.00000000e+00, 0)]\n",
      " [(1, 28, 0.00000000e+00, 0.00000000e+00, 0.00000000e+00, 0.00000000e+00, 0)\n",
      "  (1, 28, 0.00000000e+00, 0.00000000e+00, 0.00000000e+00, 0.00000000e+00, 0)]\n",
      " [(1, 29, 0.00000000e+00, 0.00000000e+00, 0.00000000e+00, 0.00000000e+00, 0)\n",
      "  (1, 29, 0.00000000e+00, 0.00000000e+00, 0.00000000e+00, 0.00000000e+00, 0)]\n",
      " [(1, 30, 0.00000000e+00, 0.00000000e+00, 0.00000000e+00, 0.00000000e+00, 0)\n",
      "  (1, 30, 0.00000000e+00, 0.00000000e+00, 0.00000000e+00, 0.00000000e+00, 0)]\n",
      " [(1, 31, 0.00000000e+00, 0.00000000e+00, 0.00000000e+00, 0.00000000e+00, 0)\n",
      "  (1, 31, 0.00000000e+00, 0.00000000e+00, 0.00000000e+00, 0.00000000e+00, 0)]\n",
      " [(1, 32, 0.00000000e+00, 0.00000000e+00, 0.00000000e+00, 0.00000000e+00, 0)\n",
      "  (1, 32, 0.00000000e+00, 0.00000000e+00, 0.00000000e+00, 0.00000000e+00, 0)]\n",
      " [(1, 33, 0.00000000e+00, 0.00000000e+00, 0.00000000e+00, 0.00000000e+00, 0)\n",
      "  (1, 33, 0.00000000e+00, 0.00000000e+00, 0.00000000e+00, 0.00000000e+00, 0)]\n",
      " [(1, 34, 0.00000000e+00, 0.00000000e+00, 0.00000000e+00, 0.00000000e+00, 0)\n",
      "  (1, 34, 0.00000000e+00, 0.00000000e+00, 0.00000000e+00, 0.00000000e+00, 0)]\n",
      " [(1, 35, 0.00000000e+00, 0.00000000e+00, 0.00000000e+00, 0.00000000e+00, 0)\n",
      "  (1, 35, 0.00000000e+00, 0.00000000e+00, 0.00000000e+00, 0.00000000e+00, 0)]\n",
      " [(1, 36, 0.00000000e+00, 0.00000000e+00, 0.00000000e+00, 0.00000000e+00, 0)\n",
      "  (1, 36, 0.00000000e+00, 0.00000000e+00, 0.00000000e+00, 0.00000000e+00, 0)]\n",
      " [(1, 37, 0.00000000e+00, 0.00000000e+00, 0.00000000e+00, 0.00000000e+00, 0)\n",
      "  (1, 37, 0.00000000e+00, 0.00000000e+00, 0.00000000e+00, 0.00000000e+00, 0)]\n",
      " [(1, 38, 0.00000000e+00, 0.00000000e+00, 0.00000000e+00, 0.00000000e+00, 0)\n",
      "  (1, 38, 0.00000000e+00, 0.00000000e+00, 0.00000000e+00, 0.00000000e+00, 0)]\n",
      " [(1, 39, 0.00000000e+00, 0.00000000e+00, 0.00000000e+00, 0.00000000e+00, 0)\n",
      "  (1, 39, 0.00000000e+00, 0.00000000e+00, 0.00000000e+00, 0.00000000e+00, 0)]\n",
      " [(1, 40, 0.00000000e+00, 0.00000000e+00, 0.00000000e+00, 0.00000000e+00, 0)\n",
      "  (1, 40, 0.00000000e+00, 0.00000000e+00, 0.00000000e+00, 0.00000000e+00, 0)]\n",
      " [(1, 41, 0.00000000e+00, 0.00000000e+00, 0.00000000e+00, 0.00000000e+00, 0)\n",
      "  (1, 41, 4.96352399e-11, 0.00000000e+00, 1.48905720e-10, 4.88296748e-11, 0)]\n",
      " [(1, 42, 0.00000000e+00, 0.00000000e+00, 0.00000000e+00, 0.00000000e+00, 0)\n",
      "  (1, 42, 1.43565893e-10, 0.00000000e+00, 3.83981035e-10, 1.05648425e-10, 0)]\n",
      " [(1, 43, 0.00000000e+00, 0.00000000e+00, 0.00000000e+00, 0.00000000e+00, 0)\n",
      "  (1, 43, 1.80691373e-10, 0.00000000e+00, 4.59319375e-10, 1.12931262e-10, 0)]\n",
      " [(1, 44, 0.00000000e+00, 0.00000000e+00, 0.00000000e+00, 0.00000000e+00, 0)\n",
      "  (1, 44, 2.52898030e-10, 3.96008380e-11, 5.17310478e-10, 1.24839555e-10, 0)]\n",
      " [(1, 45, 0.00000000e+00, 0.00000000e+00, 0.00000000e+00, 0.00000000e+00, 0)\n",
      "  (1, 45, 2.91066497e-10, 8.26169678e-11, 5.62557331e-10, 1.25161945e-10, 0)]\n",
      " [(1, 46, 8.30207213e-11, 0.00000000e+00, 2.49062164e-10, 8.38632574e-11, 0)\n",
      "  (1, 46, 3.68564522e-10, 8.70604476e-11, 6.83702513e-10, 1.51808558e-10, 0)]\n",
      " [(1, 47, 9.57933559e-11, 0.00000000e+00, 2.72802635e-10, 8.19448176e-11, 0)\n",
      "  (1, 47, 4.32400583e-10, 1.26806578e-10, 7.37988119e-10, 1.58169953e-10, 0)]\n",
      " [(1, 48, 9.37551994e-11, 0.00000000e+00, 2.66998323e-10, 8.18624823e-11, 0)\n",
      "  (1, 48, 2.50891298e-09, 2.07104140e-10, 6.73119521e-09, 1.94815796e-09, 0)]\n",
      " [(1, 49, 9.18019661e-11, 0.00000000e+00, 2.75405898e-10, 7.71035502e-11, 0)\n",
      "  (1, 49, 2.45979366e-09, 2.03895701e-10, 6.62092349e-09, 1.95947256e-09, 0)]\n",
      " [(1, 50, 8.99284565e-11, 0.00000000e+00, 2.56100433e-10, 7.63213567e-11, 0)\n",
      "  (1, 50, 3.06613775e-09, 2.69967330e-10, 7.91202389e-09, 2.10226578e-09, 0)]\n",
      " [(1, 51, 8.81298874e-11, 0.00000000e+00, 2.50978424e-10, 7.44049055e-11, 0)\n",
      "  (1, 51, 3.52544596e-09, 3.70931697e-10, 8.48426846e-09, 2.09609685e-09, 0)]]\n",
      "\n",
      "State labels:\n",
      "[b'unbound' b'bound']\n",
      "\n",
      "File attributes:\n",
      "arg_hash: d9a0603854239ca8d30729bbb8619b2b\n",
      "creation_hostname: gl-login2.arc-ts.umich.edu\n",
      "creation_program: /home/fuyao/.conda/envs/WESTPA/lib/python3.9/site-packages/ipykernel_launcher.py\n",
      "creation_time: Mon Oct 14 10:35:51 2024\n",
      "creation_unix_time: 1728916551.0146775\n",
      "creation_user: fuyao\n",
      "iter_start: 1\n",
      "iter_stop: 51\n",
      "westpa_fileformat_version: 8\n",
      "westpa_iter_prec: 8\n",
      "\n",
      "Converted DataFrame:\n",
      "    iter_start  iter_stop      expected     ci_lbound     ci_ubound  \\\n",
      "0            1          2  0.000000e+00  0.000000e+00  0.000000e+00   \n",
      "1            1          2  0.000000e+00  0.000000e+00  0.000000e+00   \n",
      "2            1          3  0.000000e+00  0.000000e+00  0.000000e+00   \n",
      "3            1          3  0.000000e+00  0.000000e+00  0.000000e+00   \n",
      "4            1          4  0.000000e+00  0.000000e+00  0.000000e+00   \n",
      "..         ...        ...           ...           ...           ...   \n",
      "95           1         49  2.459794e-09  2.038957e-10  6.620923e-09   \n",
      "96           1         50  8.992846e-11  0.000000e+00  2.561004e-10   \n",
      "97           1         50  3.066138e-09  2.699673e-10  7.912024e-09   \n",
      "98           1         51  8.812989e-11  0.000000e+00  2.509784e-10   \n",
      "99           1         51  3.525446e-09  3.709317e-10  8.484268e-09   \n",
      "\n",
      "           sterr  corr_len  \n",
      "0   0.000000e+00         0  \n",
      "1   0.000000e+00         0  \n",
      "2   0.000000e+00         0  \n",
      "3   0.000000e+00         0  \n",
      "4   0.000000e+00         0  \n",
      "..           ...       ...  \n",
      "95  1.959473e-09         0  \n",
      "96  7.632136e-11         0  \n",
      "97  2.102266e-09         0  \n",
      "98  7.440491e-11         0  \n",
      "99  2.096097e-09         0  \n",
      "\n",
      "[100 rows x 7 columns]\n"
     ]
    }
   ],
   "source": [
    "\n",
    "#take a look of target_flux_evolution data (50,2), if you want lol\n",
    "\n",
    "import h5py\n",
    "import numpy as np\n",
    "import pandas as pd\n",
    "\n",
    "# Define the file path\n",
    "file_path = '/E166V_8H82/ANALYSIS_2D/TEST_2D/direct.h5'\n",
    "\n",
    "##Open the HDF5 file and read the data\n",
    "with h5py.File(file_path, 'r') as f:\n",
    "    target_flux_data = f['target_flux_evolution'][()]\n",
    "    print(\"\\ntarget_flux_evolution:\")\n",
    "    print(target_flux_data)\n",
    "\n",
    "    if 'state_labels' in f:\n",
    "        state_labels = f['state_labels'][()]\n",
    "        print(\"\\nState labels:\")\n",
    "        print(state_labels)\n",
    "\n",
    "    # Read file attributes\n",
    "    print(\"\\nFile attributes:\")\n",
    "    for key, value in f.attrs.items():\n",
    "        print(f\"{key}: {value}\")\n",
    "\n",
    "\n",
    "##covert it into dataframe(thx gpt!)\n",
    "# Flatten the list of tuples from the nested structure\n",
    "# In this context, first convert the structured array to plain list of tuples\n",
    "flattened_data = [tuple(row) for sublist in target_flux_data for row in sublist]\n",
    "\n",
    "# Define the DataFrame with appropriate column names\n",
    "df = pd.DataFrame(flattened_data, columns=['iter_start', 'iter_stop', 'expected', 'ci_lbound', 'ci_ubound', 'sterr', 'corr_len'])\n",
    "\n",
    "# Display the DataFrame\n",
    "print(\"\\nConverted DataFrame:\")\n",
    "print(df)"
   ]
  },
  {
   "cell_type": "code",
   "execution_count": 11,
   "metadata": {},
   "outputs": [
    {
     "name": "stdout",
     "output_type": "stream",
     "text": [
      "Expected values for bound state:\n",
      "[0.00000000e+00 0.00000000e+00 0.00000000e+00 0.00000000e+00\n",
      " 0.00000000e+00 0.00000000e+00 0.00000000e+00 0.00000000e+00\n",
      " 0.00000000e+00 0.00000000e+00 0.00000000e+00 0.00000000e+00\n",
      " 0.00000000e+00 0.00000000e+00 0.00000000e+00 0.00000000e+00\n",
      " 0.00000000e+00 0.00000000e+00 0.00000000e+00 0.00000000e+00\n",
      " 0.00000000e+00 0.00000000e+00 0.00000000e+00 0.00000000e+00\n",
      " 0.00000000e+00 0.00000000e+00 0.00000000e+00 0.00000000e+00\n",
      " 0.00000000e+00 0.00000000e+00 0.00000000e+00 0.00000000e+00\n",
      " 0.00000000e+00 0.00000000e+00 0.00000000e+00 0.00000000e+00\n",
      " 0.00000000e+00 0.00000000e+00 0.00000000e+00 4.96352399e-11\n",
      " 1.43565893e-10 1.80691373e-10 2.52898030e-10 2.91066497e-10\n",
      " 3.68564522e-10 4.32400583e-10 2.50891298e-09 2.45979366e-09\n",
      " 3.06613775e-09 3.52544596e-09]\n",
      "Expected values for unbound state:\n",
      "[0.00000000e+00 0.00000000e+00 0.00000000e+00 0.00000000e+00\n",
      " 0.00000000e+00 0.00000000e+00 0.00000000e+00 0.00000000e+00\n",
      " 0.00000000e+00 0.00000000e+00 0.00000000e+00 0.00000000e+00\n",
      " 0.00000000e+00 0.00000000e+00 0.00000000e+00 0.00000000e+00\n",
      " 0.00000000e+00 0.00000000e+00 0.00000000e+00 0.00000000e+00\n",
      " 0.00000000e+00 0.00000000e+00 0.00000000e+00 0.00000000e+00\n",
      " 0.00000000e+00 0.00000000e+00 0.00000000e+00 0.00000000e+00\n",
      " 0.00000000e+00 0.00000000e+00 0.00000000e+00 0.00000000e+00\n",
      " 0.00000000e+00 0.00000000e+00 0.00000000e+00 0.00000000e+00\n",
      " 0.00000000e+00 0.00000000e+00 0.00000000e+00 0.00000000e+00\n",
      " 0.00000000e+00 0.00000000e+00 0.00000000e+00 0.00000000e+00\n",
      " 8.30207213e-11 9.57933559e-11 9.37551994e-11 9.18019661e-11\n",
      " 8.99284565e-11 8.81298874e-11]\n"
     ]
    }
   ],
   "source": [
    "### extract the flux values ###\n",
    "# In the ['target_flux_evolution']['expected'] array, it gives the flux over time (number of WE iterations) into each state we labeled earlier.\n",
    "# So values here should be the flux into state 0 (unbound) and then state 1(bound)\n",
    "\n",
    "\n",
    "import h5py\n",
    "import numpy as np\n",
    "\n",
    "# open HDF5 file\n",
    "with h5py.File('/E166V_8H82/ANALYSIS_2D/TEST_2D/direct.h5', 'r') as f:\n",
    "    # 读取 target_flux_evolution 数据集\n",
    "    data = f['target_flux_evolution'][:]\n",
    "\n",
    "# extract `expected` value\n",
    "expected_values_bound = data[:, 1]['expected']  # flux into  1 (bound)\n",
    "expected_values_unbound = data[:, 0]['expected']  # flux into 0 (unbound)\n",
    "\n",
    "print(\"Expected values for bound state:\")\n",
    "print(expected_values_bound)\n",
    "\n",
    "print(\"Expected values for unbound state:\")\n",
    "print(expected_values_unbound)\n",
    "\n",
    "\n"
   ]
  },
  {
   "cell_type": "code",
   "execution_count": 12,
   "metadata": {},
   "outputs": [
    {
     "data": {
      "image/png": "[encoded data removed]",
      "text/plain": [
       "<Figure size 640x480 with 1 Axes>"
      ]
     },
     "metadata": {},
     "output_type": "display_data"
    }
   ],
   "source": [
    "### plot the flux data ###\n",
    "\n",
    "import matplotlib.pyplot as plt\n",
    "\n",
    "\n",
    "iterations = np.arange(1, 51)\n",
    "\n",
    "plt.plot(iterations, expected_values_bound, label='Bound State')\n",
    "plt.plot(iterations, expected_values_unbound, label='Unbound State')\n",
    "\n",
    "plt.xlabel('Iteration')\n",
    "plt.ylabel('Expected Flux')\n",
    "plt.legend()\n",
    "plt.title('Flux Evolution over Iterations')\n",
    "plt.show()\n",
    "\n"
   ]
  },
  {
   "cell_type": "code",
   "execution_count": 2,
   "metadata": {},
   "outputs": [
    {
     "name": "stderr",
     "output_type": "stream",
     "text": [
      "/home/fuyao/.conda/envs/WESTPA/lib/python3.9/site-packages/tqdm/auto.py:21: TqdmWarning: IProgress not found. Please update jupyter and ipywidgets. See https://ipywidgets.readthedocs.io/en/stable/user_install.html\n",
      "  from .autonotebook import tqdm as notebook_tqdm\n"
     ]
    }
   ],
   "source": [
    "\n",
    "# rate_evolution data could be easily read and plot by module in wedap\n",
    "\n",
    "import wedap\n",
    "import matplotlib.pyplot as plt\n",
    "from wekap import Kinetics"
   ]
  },
  {
   "cell_type": "code",
   "execution_count": 3,
   "metadata": {},
   "outputs": [
    {
     "data": {
      "text/plain": [
       "array([ 0.        ,  0.        ,  0.        ,  0.        ,  0.        ,\n",
       "        0.        ,  0.        ,  0.        ,  0.        ,  0.        ,\n",
       "        0.        ,  0.        ,  0.        ,  0.        ,  0.        ,\n",
       "        0.        ,  0.        ,  0.        ,  0.        ,  0.        ,\n",
       "        0.        ,  0.        ,  0.        ,  0.        ,  0.        ,\n",
       "        0.        ,  0.        ,  0.        ,  0.        ,  0.        ,\n",
       "        0.        ,  0.        ,  0.        ,  0.        ,  0.        ,\n",
       "        0.        ,  0.        ,  0.        ,  0.        ,  0.49635999,\n",
       "        1.4356825 ,  1.80694597,  2.52902924,  2.91072587,  3.68572848,\n",
       "        4.32411127, 25.08978711, 24.5986222 , 30.66227934, 35.25555031])"
      ]
     },
     "execution_count": 3,
     "metadata": {},
     "output_type": "execute_result"
    },
    {
     "data": {
      "image/png": "[encoded data removed]",
      "text/plain": [
       "<Figure size 640x480 with 1 Axes>"
      ]
     },
     "metadata": {},
     "output_type": "display_data"
    }
   ],
   "source": [
    "direct_h5_path = '/E166V_8H82/ANALYSIS_2D/TEST_2D/direct.h5'\n",
    "\n",
    "\n",
    "state = 1  # State for flux calculations\n",
    "\n",
    "kinetics = Kinetics(direct=direct_h5_path, state=state)\n",
    "# Extract raw rate array\n",
    "raw_rates = kinetics.extract_rate()\n",
    "\n",
    "# Plot the rate constant, which is the target flux evolution AB / P_A\n",
    "kinetics.plot_rate()\n",
    "\n"
   ]
  },
  {
   "cell_type": "code",
   "execution_count": null,
   "metadata": {},
   "outputs": [],
   "source": [
    "## other useful modules within w_ipa is in tutprial(from page 26)"
   ]
  },
  {
   "cell_type": "code",
   "execution_count": 19,
   "metadata": {},
   "outputs": [
    {
     "data": {
      "text/plain": [
       "['aggregate_walkers', 'auxdata', 'bins', 'color_prob_evolution', 'conditional_flux_evolution', 'direct', 'instant_matrix', 'iteration', 'matrix', 'maxweight', 'minweight', 'parent', 'parents', 'pcoord', 'rate_evolution', 'raw', 'reweight', 'seg_id', 'state_pop_evolution', 'states', 'successful_trajectories', 'summary', 'target_flux_evolution', 'total_fluxes', 'walkers', 'weights']"
      ]
     },
     "execution_count": 19,
     "metadata": {},
     "output_type": "execute_result"
    }
   ],
   "source": [
    "w.current"
   ]
  },
  {
   "cell_type": "code",
   "execution_count": 22,
   "metadata": {},
   "outputs": [
    {
     "name": "stdout",
     "output_type": "stream",
     "text": [
      "Setting iteration to iter 49.\n"
     ]
    }
   ],
   "source": [
    "# The w_ipa tool works by presenting an iteration and all its\n",
    "# data as a single object. Each iteration object contains numer-\n",
    "# ous datasets and helper functions designed to ease analysis.\n",
    "# After loading, w_ipa defaults to the final iteration. You can\n",
    "# change the iteration by using the following command:\n",
    "# $ w.iteration = 39\n",
    "w.iteration = 49\n"
   ]
  },
  {
   "cell_type": "code",
   "execution_count": 5,
   "metadata": {},
   "outputs": [
    {
     "name": "stderr",
     "output_type": "stream",
     "text": [
      "Evolution: 100%|██████████| 50/50 [00:05<00:00,  9.96it/s]\n"
     ]
    },
    {
     "data": {
      "image/png": "[encoded data removed]",
      "text/plain": [
       "<Figure size 640x480 with 2 Axes>"
      ]
     },
     "metadata": {},
     "output_type": "display_data"
    }
   ],
   "source": [
    "\n",
    "## wedap could also conduct many analysis directly.\n",
    "\n",
    "import wedap\n",
    "import matplotlib.pyplot as plt\n",
    "\n",
    "wedap.H5_Plot(h5=\"/E166V_8H82/west.h5\", data_type=\"evolution\").plot()\n",
    "plt.show()"
   ]
  }
 ],
 "metadata": {
  "kernelspec": {
   "display_name": "WESTPA",
   "language": "python",
   "name": "python3"
  },
  "language_info": {
   "codemirror_mode": {
    "name": "ipython",
    "version": 3
   },
   "file_extension": ".py",
   "mimetype": "text/x-python",
   "name": "python",
   "nbconvert_exporter": "python",
   "pygments_lexer": "ipython3",
   "version": "undefined.undefined.undefined"
  }
 },
 "nbformat": 4,
 "nbformat_minor": 2
}
